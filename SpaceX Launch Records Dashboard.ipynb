{
    "cells": [
        {
            "cell_type": "markdown",
            "id": "415637b2",
            "metadata": {},
            "source": "### SpaceX Launch Records Dashboard"
        },
        {
            "cell_type": "code",
            "execution_count": 1,
            "id": "0e539f15",
            "metadata": {},
            "outputs": [],
            "source": "# Import required libraries\nimport pandas as pd\nimport dash\nfrom dash import html\nfrom dash import dcc\nfrom dash.dependencies import Input, Output, State\nimport plotly.express as px\nfrom jupyter_dash import JupyterDash\nfrom dash import no_update"
        },
        {
            "cell_type": "code",
            "execution_count": 2,
            "id": "32d06281",
            "metadata": {},
            "outputs": [],
            "source": "# Read the airline data into pandas dataframe\nspacex_df = pd.read_csv(\"https://cf-courses-data.s3.us.cloud-object-storage.appdomain.cloud/IBM-DS0321EN-SkillsNetwork/datasets/spacex_launch_dash.csv\")\nmax_payload = spacex_df['Payload Mass (kg)'].max()\nmin_payload = spacex_df['Payload Mass (kg)'].min()"
        },
        {
            "cell_type": "code",
            "execution_count": null,
            "id": "3fee1366",
            "metadata": {},
            "outputs": [
                {
                    "name": "stdout",
                    "output_type": "stream",
                    "text": "Dash is running on http://localhost:8054/\n\n * Serving Flask app '__main__' (lazy loading)\n * Environment: production\n\u001b[31m   WARNING: This is a development server. Do not use it in a production deployment.\u001b[0m\n\u001b[2m   Use a production WSGI server instead.\u001b[0m\n * Debug mode: off\n"
                },
                {
                    "name": "stderr",
                    "output_type": "stream",
                    "text": " * Running on http://localhost:8054/ (Press CTRL+C to quit)\n"
                }
            ],
            "source": "# Create a dash application\napp = dash.Dash(__name__)\n\n# Create an app layout\napp.layout = html.Div(children=[html.H1('SpaceX Launch Records Dashboard',\n                                        style={'textAlign': 'center', 'color': '#503D36','font-size': 40}),\n                                dcc.Dropdown(id='site-dropdown', \n                                             options= [{'label': 'All Sites', 'value': 'ALL'}, \n                                                       {'label':'CCAFS LC-40', 'value':'CCAFS LC-40'}, \n                                                       {'label':'VAFB SLC-4E', 'value':'VAFB SLC-4E'},\n                                                       {'label':'KSC LC-39A', 'value':'KSC LC-39A'},\n                                                       {'label':'CCAFS SLC-40', 'value':'CCAFS SLC-40'}], value='ALL',\n                                                       placeholder='select a Launch Site here', searchable=True),\n                                html.Br(),\n\n                                # TASK 2: Add a pie chart to show the total successful launches count for all sites\n                                # If a specific launch site was selected, show the Success vs. Failed counts for the site\n                                html.Div(dcc.Graph(id='success-pie-chart')),\n                                html.Br(),\n                                                          \n                                html.P(\"Payload range (Kg):\"),\n                                # TASK 3: Add a slider to select payload range\n                                dcc.RangeSlider(id='payload-slider', min=0, max=10000, step=1000,\n                                                marks={0: '0', 2500: '2500', 5000: '5000', 7500: '7500', 10000: '10000'}, \n                                                value=[min_payload, max_payload]),\n\n                                # TASK 4: Add a scatter chart to show the correlation between payload and launch success\n                                html.Div(dcc.Graph(id='success-payload-scatter-chart')),\n                                ])\n\n# TASK 2:\n# Add a callback function for `site-dropdown` as input, `success-pie-chart` as output\n@app.callback(Output('success-pie-chart','figure'),Input('site-dropdown','value'))\n\ndef get_pie_chart(entered_site):\n    filtered_df = spacex_df\n    if entered_site == 'ALL':\n        fig = px.pie(filtered_df, values='class', names='Launch Site', title='Total Success Launches by Site')\n    else:\n        filtered_df = filtered_df[filtered_df['Launch Site'] == entered_site]\n        fig = px.pie(filtered_df, names='class', title='Total Success Launches for Site ' + entered_site)\n    return fig\n\n# TASK 4:\n# Add a callback function for `site-dropdown` and `payload-slider` as inputs, `success-payload-scatter-chart` as output\n@app.callback(Output('success-payload-scatter-chart', 'figure'), \n              [Input('site-dropdown', 'value'), Input('payload-slider', 'value')])\n\ndef get_scatter(entered_site, payload_range):\n    filtered_df = spacex_df\n    if entered_site == 'ALL':\n        min_, max_ = payload_range\n        range_ = (filtered_df['Payload Mass (kg)'] > min_) & (filtered_df['Payload Mass (kg)'] < max_)\n        fig = px.scatter(filtered_df[range_], x=\"Payload Mass (kg)\", y=\"class\", color=\"Booster Version Category\",\n                         title = 'Correlation Between Payload and Success for All Sites')\n    else:\n        min_, max_ = payload_range\n        filtered_df = filtered_df[filtered_df['Launch Site'] == entered_site]\n        range_ = (filtered_df['Payload Mass (kg)'] > min_) & (filtered_df['Payload Mass (kg)'] < max_)\n        fig = px.scatter(filtered_df[range_], x=\"Payload Mass (kg)\", y=\"class\", color=\"Booster Version Category\",\n                         title = 'Correlation Between Payload and Success for Site ' + entered_site)\n    return fig\n        \n# Run the app\nif __name__ == '__main__':\n    app.run_server(host=\"localhost\", debug=False, dev_tools_ui=False, dev_tools_props_check=False, port = 8054)"
        },
        {
            "cell_type": "code",
            "execution_count": null,
            "id": "e10d0e02",
            "metadata": {},
            "outputs": [],
            "source": ""
        }
    ],
    "metadata": {
        "kernelspec": {
            "display_name": "Python 3 (ipykernel)",
            "language": "python",
            "name": "python3"
        },
        "language_info": {
            "codemirror_mode": {
                "name": "ipython",
                "version": 3
            },
            "file_extension": ".py",
            "mimetype": "text/x-python",
            "name": "python",
            "nbconvert_exporter": "python",
            "pygments_lexer": "ipython3",
            "version": "3.9.9"
        }
    },
    "nbformat": 4,
    "nbformat_minor": 5
}